{
 "cells": [
  {
   "cell_type": "code",
   "execution_count": 18,
   "id": "12fdae34",
   "metadata": {},
   "outputs": [
    {
     "name": "stdout",
     "output_type": "stream",
     "text": [
      "Requirement already satisfied: openai in c:\\users\\lance\\anaconda3\\lib\\site-packages (2.1.0)\n",
      "Requirement already satisfied: pandas in c:\\users\\lance\\anaconda3\\lib\\site-packages (2.0.3)\n",
      "Requirement already satisfied: python-dotenv in c:\\users\\lance\\anaconda3\\lib\\site-packages (0.21.0)\n",
      "Requirement already satisfied: anyio<5,>=3.5.0 in c:\\users\\lance\\anaconda3\\lib\\site-packages (from openai) (3.5.0)\n",
      "Requirement already satisfied: distro<2,>=1.7.0 in c:\\users\\lance\\anaconda3\\lib\\site-packages (from openai) (1.9.0)\n",
      "Requirement already satisfied: httpx<1,>=0.23.0 in c:\\users\\lance\\anaconda3\\lib\\site-packages (from openai) (0.28.1)\n",
      "Requirement already satisfied: jiter<1,>=0.4.0 in c:\\users\\lance\\anaconda3\\lib\\site-packages (from openai) (0.11.0)\n",
      "Requirement already satisfied: pydantic<3,>=1.9.0 in c:\\users\\lance\\anaconda3\\lib\\site-packages (from openai) (2.8.2)\n",
      "Requirement already satisfied: sniffio in c:\\users\\lance\\anaconda3\\lib\\site-packages (from openai) (1.2.0)\n",
      "Requirement already satisfied: tqdm>4 in c:\\users\\lance\\anaconda3\\lib\\site-packages (from openai) (4.65.0)\n",
      "Requirement already satisfied: typing-extensions<5,>=4.11 in c:\\users\\lance\\anaconda3\\lib\\site-packages (from openai) (4.15.0)\n",
      "Requirement already satisfied: python-dateutil>=2.8.2 in c:\\users\\lance\\anaconda3\\lib\\site-packages (from pandas) (2.8.2)\n",
      "Requirement already satisfied: pytz>=2020.1 in c:\\users\\lance\\anaconda3\\lib\\site-packages (from pandas) (2023.3.post1)\n",
      "Requirement already satisfied: tzdata>=2022.1 in c:\\users\\lance\\anaconda3\\lib\\site-packages (from pandas) (2023.3)\n",
      "Requirement already satisfied: numpy>=1.21.0 in c:\\users\\lance\\anaconda3\\lib\\site-packages (from pandas) (1.24.3)\n",
      "Requirement already satisfied: idna>=2.8 in c:\\users\\lance\\anaconda3\\lib\\site-packages (from anyio<5,>=3.5.0->openai) (3.4)\n",
      "Requirement already satisfied: certifi in c:\\users\\lance\\anaconda3\\lib\\site-packages (from httpx<1,>=0.23.0->openai) (2024.8.30)\n",
      "Requirement already satisfied: httpcore==1.* in c:\\users\\lance\\anaconda3\\lib\\site-packages (from httpx<1,>=0.23.0->openai) (1.0.9)\n",
      "Requirement already satisfied: h11>=0.16 in c:\\users\\lance\\anaconda3\\lib\\site-packages (from httpcore==1.*->httpx<1,>=0.23.0->openai) (0.16.0)\n",
      "Requirement already satisfied: annotated-types>=0.4.0 in c:\\users\\lance\\anaconda3\\lib\\site-packages (from pydantic<3,>=1.9.0->openai) (0.6.0)\n",
      "Requirement already satisfied: pydantic-core==2.20.1 in c:\\users\\lance\\anaconda3\\lib\\site-packages (from pydantic<3,>=1.9.0->openai) (2.20.1)\n",
      "Requirement already satisfied: six>=1.5 in c:\\users\\lance\\anaconda3\\lib\\site-packages (from python-dateutil>=2.8.2->pandas) (1.16.0)\n",
      "Requirement already satisfied: colorama in c:\\users\\lance\\anaconda3\\lib\\site-packages (from tqdm>4->openai) (0.4.6)\n"
     ]
    }
   ],
   "source": [
    "!pip install openai pandas python-dotenv"
   ]
  },
  {
   "cell_type": "code",
   "execution_count": 19,
   "id": "434de8ad",
   "metadata": {},
   "outputs": [],
   "source": [
    "import pandas as pd\n",
    "import os\n",
    "from dotenv import load_dotenv\n",
    "from openai import OpenAI"
   ]
  },
  {
   "cell_type": "code",
   "execution_count": 20,
   "id": "60c1bff2",
   "metadata": {},
   "outputs": [
    {
     "name": "stdout",
     "output_type": "stream",
     "text": [
      "✅ Client is ready!\n"
     ]
    }
   ],
   "source": [
    "# Load API key from .env file\n",
    "load_dotenv()\n",
    "client = OpenAI(api_key=os.getenv(\"OPENAI_API_KEY\"))\n",
    "\n",
    "print(\"✅ Client is ready!\")"
   ]
  },
  {
   "cell_type": "code",
   "execution_count": 21,
   "id": "7a99cfb4",
   "metadata": {
    "scrolled": true
   },
   "outputs": [
    {
     "data": {
      "text/html": [
       "<div>\n",
       "<style scoped>\n",
       "    .dataframe tbody tr th:only-of-type {\n",
       "        vertical-align: middle;\n",
       "    }\n",
       "\n",
       "    .dataframe tbody tr th {\n",
       "        vertical-align: top;\n",
       "    }\n",
       "\n",
       "    .dataframe thead th {\n",
       "        text-align: right;\n",
       "    }\n",
       "</style>\n",
       "<table border=\"1\" class=\"dataframe\">\n",
       "  <thead>\n",
       "    <tr style=\"text-align: right;\">\n",
       "      <th></th>\n",
       "      <th>ticket_id</th>\n",
       "      <th>customer_message</th>\n",
       "      <th>expected_category</th>\n",
       "    </tr>\n",
       "  </thead>\n",
       "  <tbody>\n",
       "    <tr>\n",
       "      <th>0</th>\n",
       "      <td>1</td>\n",
       "      <td>My internet bill is way higher this month and ...</td>\n",
       "      <td>Billing</td>\n",
       "    </tr>\n",
       "    <tr>\n",
       "      <th>1</th>\n",
       "      <td>2</td>\n",
       "      <td>The app crashes every time I try to log in</td>\n",
       "      <td>Technical Issue</td>\n",
       "    </tr>\n",
       "    <tr>\n",
       "      <th>2</th>\n",
       "      <td>3</td>\n",
       "      <td>I need to update my email address on file</td>\n",
       "      <td>Account</td>\n",
       "    </tr>\n",
       "    <tr>\n",
       "      <th>3</th>\n",
       "      <td>4</td>\n",
       "      <td>Why was my credit card charged twice?</td>\n",
       "      <td>Billing</td>\n",
       "    </tr>\n",
       "    <tr>\n",
       "      <th>4</th>\n",
       "      <td>5</td>\n",
       "      <td>I can’t reset my password through the portal</td>\n",
       "      <td>Technical Issue</td>\n",
       "    </tr>\n",
       "  </tbody>\n",
       "</table>\n",
       "</div>"
      ],
      "text/plain": [
       "   ticket_id                                   customer_message  \\\n",
       "0          1  My internet bill is way higher this month and ...   \n",
       "1          2         The app crashes every time I try to log in   \n",
       "2          3          I need to update my email address on file   \n",
       "3          4              Why was my credit card charged twice?   \n",
       "4          5       I can’t reset my password through the portal   \n",
       "\n",
       "  expected_category  \n",
       "0           Billing  \n",
       "1   Technical Issue  \n",
       "2           Account  \n",
       "3           Billing  \n",
       "4   Technical Issue  "
      ]
     },
     "execution_count": 21,
     "metadata": {},
     "output_type": "execute_result"
    }
   ],
   "source": [
    "df = pd.read_csv(\"../data/support_tickets.csv\")\n",
    "df.head()"
   ]
  },
  {
   "cell_type": "code",
   "execution_count": 22,
   "id": "0bc7a0e5",
   "metadata": {},
   "outputs": [],
   "source": [
    "# Toggle fake mode ON (True) or OFF (False)\n",
    "USE_FAKE_MODE = True  \n",
    "\n",
    "def ask_ai(prompt):\n",
    "    if USE_FAKE_MODE:\n",
    "        # Return predictable fake data for demo/testing\n",
    "        if \"Classify\" in prompt:\n",
    "            return \"Billing\"\n",
    "        elif \"Summarize\" in prompt:\n",
    "            return \"This is a mock summary of the ticket.\"\n",
    "        elif \"reply\" in prompt.lower():\n",
    "            return \"Hello, this is a sample reply. Once API credits are enabled, this will be replaced with real AI-generated responses.\"\n",
    "        else:\n",
    "            return \"Mocked Response\"\n",
    "    else:\n",
    "        # Real OpenAI call\n",
    "        response = client.chat.completions.create(\n",
    "            model=\"gpt-4o-mini\",\n",
    "            messages=[{\"role\": \"user\", \"content\": prompt}]\n",
    "        )\n",
    "        return response.choices[0].message.content.strip()"
   ]
  },
  {
   "cell_type": "code",
   "execution_count": 23,
   "id": "4cd34774",
   "metadata": {},
   "outputs": [
    {
     "name": "stdout",
     "output_type": "stream",
     "text": [
      "Processed ticket 1 ✅\n",
      "Processed ticket 2 ✅\n",
      "Processed ticket 3 ✅\n",
      "Processed ticket 4 ✅\n",
      "Processed ticket 5 ✅\n",
      "Processed ticket 6 ✅\n",
      "Processed ticket 7 ✅\n",
      "Processed ticket 8 ✅\n",
      "Processed ticket 9 ✅\n",
      "Processed ticket 10 ✅\n",
      "Processed ticket 11 ✅\n",
      "Processed ticket 12 ✅\n",
      "Processed ticket 13 ✅\n",
      "Processed ticket 14 ✅\n",
      "Processed ticket 15 ✅\n",
      "Processed ticket 16 ✅\n",
      "Processed ticket 17 ✅\n",
      "Processed ticket 18 ✅\n",
      "Processed ticket 19 ✅\n",
      "Processed ticket 20 ✅\n"
     ]
    }
   ],
   "source": [
    "# Create new columns\n",
    "df[\"ai_category\"] = \"\"\n",
    "df[\"ai_summary\"] = \"\"\n",
    "df[\"ai_reply\"] = \"\"\n",
    "\n",
    "for i, row in df.iterrows():\n",
    "    message = row[\"customer_message\"]\n",
    "\n",
    "    # Classification\n",
    "    classify_prompt = f\"Classify this support ticket as Billing, Technical Issue, or Account:\\n\\n{message}\"\n",
    "    df.at[i, \"ai_category\"] = ask_ai(classify_prompt)\n",
    "\n",
    "    # Summarization\n",
    "    summary_prompt = f\"Summarize this support ticket in one sentence:\\n\\n{message}\"\n",
    "    df.at[i, \"ai_summary\"] = ask_ai(summary_prompt)\n",
    "\n",
    "    # Draft reply\n",
    "    reply_prompt = f\"Write a polite, professional support reply to the following ticket:\\n\\n{message}\"\n",
    "    df.at[i, \"ai_reply\"] = ask_ai(reply_prompt)\n",
    "\n",
    "    print(f\"Processed ticket {row['ticket_id']} ✅\")"
   ]
  },
  {
   "cell_type": "code",
   "execution_count": 24,
   "id": "5cb4f697",
   "metadata": {
    "scrolled": true
   },
   "outputs": [
    {
     "name": "stdout",
     "output_type": "stream",
     "text": [
      "✅ Saved results to support_tickets_with_ai.csv\n"
     ]
    }
   ],
   "source": [
    "df.to_csv(\"../data/support_tickets_with_ai.csv\", index=False)\n",
    "print(\"✅ Saved results to support_tickets_with_ai.csv\")"
   ]
  },
  {
   "cell_type": "code",
   "execution_count": 25,
   "id": "ce4d60e3",
   "metadata": {},
   "outputs": [
    {
     "data": {
      "text/html": [
       "<div>\n",
       "<style scoped>\n",
       "    .dataframe tbody tr th:only-of-type {\n",
       "        vertical-align: middle;\n",
       "    }\n",
       "\n",
       "    .dataframe tbody tr th {\n",
       "        vertical-align: top;\n",
       "    }\n",
       "\n",
       "    .dataframe thead th {\n",
       "        text-align: right;\n",
       "    }\n",
       "</style>\n",
       "<table border=\"1\" class=\"dataframe\">\n",
       "  <thead>\n",
       "    <tr style=\"text-align: right;\">\n",
       "      <th></th>\n",
       "      <th>customer_message</th>\n",
       "      <th>ai_category</th>\n",
       "      <th>ai_summary</th>\n",
       "      <th>ai_reply</th>\n",
       "    </tr>\n",
       "  </thead>\n",
       "  <tbody>\n",
       "    <tr>\n",
       "      <th>0</th>\n",
       "      <td>My internet bill is way higher this month and ...</td>\n",
       "      <td>Billing</td>\n",
       "      <td>This is a mock summary of the ticket.</td>\n",
       "      <td>Hello, this is a sample reply. Once API credit...</td>\n",
       "    </tr>\n",
       "    <tr>\n",
       "      <th>1</th>\n",
       "      <td>The app crashes every time I try to log in</td>\n",
       "      <td>Billing</td>\n",
       "      <td>This is a mock summary of the ticket.</td>\n",
       "      <td>Hello, this is a sample reply. Once API credit...</td>\n",
       "    </tr>\n",
       "    <tr>\n",
       "      <th>2</th>\n",
       "      <td>I need to update my email address on file</td>\n",
       "      <td>Billing</td>\n",
       "      <td>This is a mock summary of the ticket.</td>\n",
       "      <td>Hello, this is a sample reply. Once API credit...</td>\n",
       "    </tr>\n",
       "    <tr>\n",
       "      <th>3</th>\n",
       "      <td>Why was my credit card charged twice?</td>\n",
       "      <td>Billing</td>\n",
       "      <td>This is a mock summary of the ticket.</td>\n",
       "      <td>Hello, this is a sample reply. Once API credit...</td>\n",
       "    </tr>\n",
       "    <tr>\n",
       "      <th>4</th>\n",
       "      <td>I can’t reset my password through the portal</td>\n",
       "      <td>Billing</td>\n",
       "      <td>This is a mock summary of the ticket.</td>\n",
       "      <td>Hello, this is a sample reply. Once API credit...</td>\n",
       "    </tr>\n",
       "  </tbody>\n",
       "</table>\n",
       "</div>"
      ],
      "text/plain": [
       "                                    customer_message ai_category  \\\n",
       "0  My internet bill is way higher this month and ...     Billing   \n",
       "1         The app crashes every time I try to log in     Billing   \n",
       "2          I need to update my email address on file     Billing   \n",
       "3              Why was my credit card charged twice?     Billing   \n",
       "4       I can’t reset my password through the portal     Billing   \n",
       "\n",
       "                              ai_summary  \\\n",
       "0  This is a mock summary of the ticket.   \n",
       "1  This is a mock summary of the ticket.   \n",
       "2  This is a mock summary of the ticket.   \n",
       "3  This is a mock summary of the ticket.   \n",
       "4  This is a mock summary of the ticket.   \n",
       "\n",
       "                                            ai_reply  \n",
       "0  Hello, this is a sample reply. Once API credit...  \n",
       "1  Hello, this is a sample reply. Once API credit...  \n",
       "2  Hello, this is a sample reply. Once API credit...  \n",
       "3  Hello, this is a sample reply. Once API credit...  \n",
       "4  Hello, this is a sample reply. Once API credit...  "
      ]
     },
     "execution_count": 25,
     "metadata": {},
     "output_type": "execute_result"
    }
   ],
   "source": [
    "df.head()[[\"customer_message\", \"ai_category\", \"ai_summary\", \"ai_reply\"]]"
   ]
  },
  {
   "cell_type": "code",
   "execution_count": null,
   "id": "5ccdf314",
   "metadata": {},
   "outputs": [],
   "source": []
  }
 ],
 "metadata": {
  "kernelspec": {
   "display_name": "Python 3 (ipykernel)",
   "language": "python",
   "name": "python3"
  },
  "language_info": {
   "codemirror_mode": {
    "name": "ipython",
    "version": 3
   },
   "file_extension": ".py",
   "mimetype": "text/x-python",
   "name": "python",
   "nbconvert_exporter": "python",
   "pygments_lexer": "ipython3",
   "version": "3.11.5"
  }
 },
 "nbformat": 4,
 "nbformat_minor": 5
}
